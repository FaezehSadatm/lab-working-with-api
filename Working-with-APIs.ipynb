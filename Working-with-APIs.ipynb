{
 "cells": [
  {
   "cell_type": "code",
   "execution_count": 122,
   "id": "708c84e7",
   "metadata": {},
   "outputs": [],
   "source": [
    "#input: city or airport\n",
    "\n",
    "#return: airline"
   ]
  },
  {
   "cell_type": "code",
   "execution_count": 123,
   "id": "660ba0d3",
   "metadata": {},
   "outputs": [],
   "source": [
    "from bs4 import BeautifulSoup\n",
    "import requests\n",
    "import pandas as pd\n",
    "import json"
   ]
  },
  {
   "cell_type": "code",
   "execution_count": 124,
   "id": "4978eb70",
   "metadata": {},
   "outputs": [],
   "source": [
    "headers = {\n",
    "    \"X-RapidAPI-Key\": \"9062d689c2mshe1b9e4c756a6482p165546jsn847c6c6ea1cc\",\n",
    "    \"X-RapidAPI-Host\": \"aerodatabox.p.rapidapi.com\"\n",
    "    }\n",
    "\n",
    "\n",
    "def get_codes():\n",
    "    \n",
    "    location = input('Insert location:')\n",
    "    print()\n",
    "    \n",
    "    url = \"https://aerodatabox.p.rapidapi.com/airports/search/term\"\n",
    "    querystring = {\"q\":location.lower(), \"limit\":\"10\"}\n",
    "\n",
    "    response = requests.get(url, headers=headers, params=querystring)\n",
    "    codes = response.json()['items'] if 'items' in response.json() else location\n",
    "\n",
    "    return codes\n",
    "\n",
    "\n",
    "def choose_code():\n",
    "    \n",
    "    codes = get_codes()\n",
    "    \n",
    "    while type(codes) is str or len(set([code['shortName'] for code in codes])) != 1:\n",
    "        \n",
    "        if not codes:\n",
    "            print('Try another location. Unable to find code for:', codes, '\\n')\n",
    "        else:\n",
    "            print('More than one location found. Insert one of the following airports:', [code['shortName'] for code in codes], '\\n')\n",
    "        \n",
    "        codes = get_codes()\n",
    "    \n",
    "    return codes[0]['icao']\n",
    "\n",
    "\n",
    "def flight_between(from_, to_):\n",
    "    url = f\"https://aerodatabox.p.rapidapi.com/airports/icao/{from_}/stats/routes/daily\"\n",
    "    response = requests.get(url, headers=headers)\n",
    "    resp_json = response.json()\n",
    "\n",
    "    results_list = []\n",
    "    routes = resp_json['routes']\n",
    "    for i in range(0, len(routes)):\n",
    "        route = routes[i]\n",
    "        if 'icao' in route['destination'] and route['destination']['icao'] == to_:\n",
    "            results_list.extend(route['operators'])\n",
    "\n",
    "\n",
    "   \n",
    "    json_list = json.dumps(results_list)\n",
    "    return pd.json_normalize(results_list).T"
   ]
  },
  {
   "cell_type": "code",
   "execution_count": null,
   "id": "b9faf0ce",
   "metadata": {},
   "outputs": [
    {
     "name": "stdout",
     "output_type": "stream",
     "text": [
      "[DEPARTURE]\n"
     ]
    }
   ],
   "source": [
    "print('[DEPARTURE]')\n",
    "from_ = choose_code()\n",
    "print('[DESTINATION]')\n",
    "to_ = choose_code()\n",
    "\n",
    "flight_df = flight_between(from_, to_)\n",
    "flight_df"
   ]
  },
  {
   "cell_type": "code",
   "execution_count": null,
   "id": "a983e82b",
   "metadata": {},
   "outputs": [],
   "source": [
    "#inputs: airport, departure and arrival date\n",
    "#returns: delay"
   ]
  },
  {
   "cell_type": "code",
   "execution_count": null,
   "id": "c4067b3a",
   "metadata": {},
   "outputs": [],
   "source": [
    "import requests\n",
    "\n",
    "\n",
    "location = input('Please enter the exact icao code:').upper()\n",
    "from_when = input('Please enter the time in this format:\\n \\\"YYYY-MM-DDThh:mm\"')\n",
    "to_when = input('Please enter the time in this format:\\n \\\"YYYY-MM-DDThh:mm\"')\n",
    "\n",
    "url = f\"https://aerodatabox.p.rapidapi.com/airports/icao/{location}/delays/{from_when}/{to_when}\"\n",
    "\n",
    "headers = {\n",
    "    \"X-RapidAPI-Key\": \"9062d689c2mshe1b9e4c756a6482p165546jsn847c6c6ea1cc\",\n",
    "    \"X-RapidAPI-Host\": \"aerodatabox.p.rapidapi.com\"\n",
    "}\n",
    "\n",
    "response = requests.request(\"GET\", url, headers=headers)\n",
    "print(response)\n",
    "print(response.text)"
   ]
  },
  {
   "cell_type": "code",
   "execution_count": null,
   "id": "068a1db5",
   "metadata": {
    "scrolled": false
   },
   "outputs": [],
   "source": [
    "pd.json_normalize(response.json())"
   ]
  }
 ],
 "metadata": {
  "kernelspec": {
   "display_name": "Python 3 (ipykernel)",
   "language": "python",
   "name": "python3"
  },
  "language_info": {
   "codemirror_mode": {
    "name": "ipython",
    "version": 3
   },
   "file_extension": ".py",
   "mimetype": "text/x-python",
   "name": "python",
   "nbconvert_exporter": "python",
   "pygments_lexer": "ipython3",
   "version": "3.9.12"
  }
 },
 "nbformat": 4,
 "nbformat_minor": 5
}
